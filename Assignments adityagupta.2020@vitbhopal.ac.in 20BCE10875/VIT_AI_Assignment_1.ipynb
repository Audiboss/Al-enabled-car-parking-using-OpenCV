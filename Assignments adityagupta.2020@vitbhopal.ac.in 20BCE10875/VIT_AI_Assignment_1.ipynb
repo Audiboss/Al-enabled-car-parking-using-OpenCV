{
  "nbformat": 4,
  "nbformat_minor": 0,
  "metadata": {
    "colab": {
      "provenance": []
    },
    "kernelspec": {
      "name": "python3",
      "display_name": "Python 3"
    },
    "language_info": {
      "name": "python"
    }
  },
  "cells": [
    {
      "cell_type": "markdown",
      "source": [
        "Task1\n"
      ],
      "metadata": {
        "id": "MQ3q82H8IoEJ"
      }
    },
    {
      "cell_type": "code",
      "source": [
        "import pandas as pd\n",
        "import numpy as np"
      ],
      "metadata": {
        "id": "exXqX19VIdZJ"
      },
      "execution_count": 6,
      "outputs": []
    },
    {
      "cell_type": "code",
      "source": [
        "#using numpy's randint\n",
        "df = pd.DataFrame(np.random.randint(0,100,size=(15, 4)), columns=list('ABCD'))"
      ],
      "metadata": {
        "id": "3QkNY15mIgAQ"
      },
      "execution_count": 7,
      "outputs": []
    },
    {
      "cell_type": "code",
      "source": [
        "#preview the df\n",
        "df"
      ],
      "metadata": {
        "colab": {
          "base_uri": "https://localhost:8080/",
          "height": 519
        },
        "id": "29oqUc-fIiLQ",
        "outputId": "7c4d4df0-6e02-48f9-80a6-f7c8f450007f"
      },
      "execution_count": 8,
      "outputs": [
        {
          "output_type": "execute_result",
          "data": {
            "text/plain": [
              "     A   B   C   D\n",
              "0   14  85  57  59\n",
              "1   46   6  71  57\n",
              "2   45  70  57   3\n",
              "3   20  31  32  21\n",
              "4   70  36  88  64\n",
              "5   83  75  43   4\n",
              "6   50  47  15  22\n",
              "7   77  74   8  93\n",
              "8   22  70  15  60\n",
              "9   53  78  29  51\n",
              "10  10   7  12  93\n",
              "11  35  16  53  57\n",
              "12  51   4  85  64\n",
              "13   7  41  86  23\n",
              "14   1  10  19   7"
            ],
            "text/html": [
              "\n",
              "  <div id=\"df-5b41fc4f-4f5f-44d6-9c24-6156ec79fe23\">\n",
              "    <div class=\"colab-df-container\">\n",
              "      <div>\n",
              "<style scoped>\n",
              "    .dataframe tbody tr th:only-of-type {\n",
              "        vertical-align: middle;\n",
              "    }\n",
              "\n",
              "    .dataframe tbody tr th {\n",
              "        vertical-align: top;\n",
              "    }\n",
              "\n",
              "    .dataframe thead th {\n",
              "        text-align: right;\n",
              "    }\n",
              "</style>\n",
              "<table border=\"1\" class=\"dataframe\">\n",
              "  <thead>\n",
              "    <tr style=\"text-align: right;\">\n",
              "      <th></th>\n",
              "      <th>A</th>\n",
              "      <th>B</th>\n",
              "      <th>C</th>\n",
              "      <th>D</th>\n",
              "    </tr>\n",
              "  </thead>\n",
              "  <tbody>\n",
              "    <tr>\n",
              "      <th>0</th>\n",
              "      <td>14</td>\n",
              "      <td>85</td>\n",
              "      <td>57</td>\n",
              "      <td>59</td>\n",
              "    </tr>\n",
              "    <tr>\n",
              "      <th>1</th>\n",
              "      <td>46</td>\n",
              "      <td>6</td>\n",
              "      <td>71</td>\n",
              "      <td>57</td>\n",
              "    </tr>\n",
              "    <tr>\n",
              "      <th>2</th>\n",
              "      <td>45</td>\n",
              "      <td>70</td>\n",
              "      <td>57</td>\n",
              "      <td>3</td>\n",
              "    </tr>\n",
              "    <tr>\n",
              "      <th>3</th>\n",
              "      <td>20</td>\n",
              "      <td>31</td>\n",
              "      <td>32</td>\n",
              "      <td>21</td>\n",
              "    </tr>\n",
              "    <tr>\n",
              "      <th>4</th>\n",
              "      <td>70</td>\n",
              "      <td>36</td>\n",
              "      <td>88</td>\n",
              "      <td>64</td>\n",
              "    </tr>\n",
              "    <tr>\n",
              "      <th>5</th>\n",
              "      <td>83</td>\n",
              "      <td>75</td>\n",
              "      <td>43</td>\n",
              "      <td>4</td>\n",
              "    </tr>\n",
              "    <tr>\n",
              "      <th>6</th>\n",
              "      <td>50</td>\n",
              "      <td>47</td>\n",
              "      <td>15</td>\n",
              "      <td>22</td>\n",
              "    </tr>\n",
              "    <tr>\n",
              "      <th>7</th>\n",
              "      <td>77</td>\n",
              "      <td>74</td>\n",
              "      <td>8</td>\n",
              "      <td>93</td>\n",
              "    </tr>\n",
              "    <tr>\n",
              "      <th>8</th>\n",
              "      <td>22</td>\n",
              "      <td>70</td>\n",
              "      <td>15</td>\n",
              "      <td>60</td>\n",
              "    </tr>\n",
              "    <tr>\n",
              "      <th>9</th>\n",
              "      <td>53</td>\n",
              "      <td>78</td>\n",
              "      <td>29</td>\n",
              "      <td>51</td>\n",
              "    </tr>\n",
              "    <tr>\n",
              "      <th>10</th>\n",
              "      <td>10</td>\n",
              "      <td>7</td>\n",
              "      <td>12</td>\n",
              "      <td>93</td>\n",
              "    </tr>\n",
              "    <tr>\n",
              "      <th>11</th>\n",
              "      <td>35</td>\n",
              "      <td>16</td>\n",
              "      <td>53</td>\n",
              "      <td>57</td>\n",
              "    </tr>\n",
              "    <tr>\n",
              "      <th>12</th>\n",
              "      <td>51</td>\n",
              "      <td>4</td>\n",
              "      <td>85</td>\n",
              "      <td>64</td>\n",
              "    </tr>\n",
              "    <tr>\n",
              "      <th>13</th>\n",
              "      <td>7</td>\n",
              "      <td>41</td>\n",
              "      <td>86</td>\n",
              "      <td>23</td>\n",
              "    </tr>\n",
              "    <tr>\n",
              "      <th>14</th>\n",
              "      <td>1</td>\n",
              "      <td>10</td>\n",
              "      <td>19</td>\n",
              "      <td>7</td>\n",
              "    </tr>\n",
              "  </tbody>\n",
              "</table>\n",
              "</div>\n",
              "      <button class=\"colab-df-convert\" onclick=\"convertToInteractive('df-5b41fc4f-4f5f-44d6-9c24-6156ec79fe23')\"\n",
              "              title=\"Convert this dataframe to an interactive table.\"\n",
              "              style=\"display:none;\">\n",
              "        \n",
              "  <svg xmlns=\"http://www.w3.org/2000/svg\" height=\"24px\"viewBox=\"0 0 24 24\"\n",
              "       width=\"24px\">\n",
              "    <path d=\"M0 0h24v24H0V0z\" fill=\"none\"/>\n",
              "    <path d=\"M18.56 5.44l.94 2.06.94-2.06 2.06-.94-2.06-.94-.94-2.06-.94 2.06-2.06.94zm-11 1L8.5 8.5l.94-2.06 2.06-.94-2.06-.94L8.5 2.5l-.94 2.06-2.06.94zm10 10l.94 2.06.94-2.06 2.06-.94-2.06-.94-.94-2.06-.94 2.06-2.06.94z\"/><path d=\"M17.41 7.96l-1.37-1.37c-.4-.4-.92-.59-1.43-.59-.52 0-1.04.2-1.43.59L10.3 9.45l-7.72 7.72c-.78.78-.78 2.05 0 2.83L4 21.41c.39.39.9.59 1.41.59.51 0 1.02-.2 1.41-.59l7.78-7.78 2.81-2.81c.8-.78.8-2.07 0-2.86zM5.41 20L4 18.59l7.72-7.72 1.47 1.35L5.41 20z\"/>\n",
              "  </svg>\n",
              "      </button>\n",
              "      \n",
              "  <style>\n",
              "    .colab-df-container {\n",
              "      display:flex;\n",
              "      flex-wrap:wrap;\n",
              "      gap: 12px;\n",
              "    }\n",
              "\n",
              "    .colab-df-convert {\n",
              "      background-color: #E8F0FE;\n",
              "      border: none;\n",
              "      border-radius: 50%;\n",
              "      cursor: pointer;\n",
              "      display: none;\n",
              "      fill: #1967D2;\n",
              "      height: 32px;\n",
              "      padding: 0 0 0 0;\n",
              "      width: 32px;\n",
              "    }\n",
              "\n",
              "    .colab-df-convert:hover {\n",
              "      background-color: #E2EBFA;\n",
              "      box-shadow: 0px 1px 2px rgba(60, 64, 67, 0.3), 0px 1px 3px 1px rgba(60, 64, 67, 0.15);\n",
              "      fill: #174EA6;\n",
              "    }\n",
              "\n",
              "    [theme=dark] .colab-df-convert {\n",
              "      background-color: #3B4455;\n",
              "      fill: #D2E3FC;\n",
              "    }\n",
              "\n",
              "    [theme=dark] .colab-df-convert:hover {\n",
              "      background-color: #434B5C;\n",
              "      box-shadow: 0px 1px 3px 1px rgba(0, 0, 0, 0.15);\n",
              "      filter: drop-shadow(0px 1px 2px rgba(0, 0, 0, 0.3));\n",
              "      fill: #FFFFFF;\n",
              "    }\n",
              "  </style>\n",
              "\n",
              "      <script>\n",
              "        const buttonEl =\n",
              "          document.querySelector('#df-5b41fc4f-4f5f-44d6-9c24-6156ec79fe23 button.colab-df-convert');\n",
              "        buttonEl.style.display =\n",
              "          google.colab.kernel.accessAllowed ? 'block' : 'none';\n",
              "\n",
              "        async function convertToInteractive(key) {\n",
              "          const element = document.querySelector('#df-5b41fc4f-4f5f-44d6-9c24-6156ec79fe23');\n",
              "          const dataTable =\n",
              "            await google.colab.kernel.invokeFunction('convertToInteractive',\n",
              "                                                     [key], {});\n",
              "          if (!dataTable) return;\n",
              "\n",
              "          const docLinkHtml = 'Like what you see? Visit the ' +\n",
              "            '<a target=\"_blank\" href=https://colab.research.google.com/notebooks/data_table.ipynb>data table notebook</a>'\n",
              "            + ' to learn more about interactive tables.';\n",
              "          element.innerHTML = '';\n",
              "          dataTable['output_type'] = 'display_data';\n",
              "          await google.colab.output.renderOutput(dataTable, element);\n",
              "          const docLink = document.createElement('div');\n",
              "          docLink.innerHTML = docLinkHtml;\n",
              "          element.appendChild(docLink);\n",
              "        }\n",
              "      </script>\n",
              "    </div>\n",
              "  </div>\n",
              "  "
            ]
          },
          "metadata": {},
          "execution_count": 8
        }
      ]
    },
    {
      "cell_type": "markdown",
      "source": [
        "Task 2\n"
      ],
      "metadata": {
        "id": "9RYKV465JBR3"
      }
    },
    {
      "cell_type": "code",
      "source": [
        "import pandas as pd\n",
        "import random\n",
        "\n",
        "# use sample data to create data frame\n",
        "data = [(1, [\"Elle\", \"Harpers\", \"Cosmo\"]),\n",
        "        (2, [\"Elle\", \"Vogue\"]),\n",
        "        (3, [\"Cosmo\"])]\n",
        "df = pd.DataFrame(data, columns=['row', 'sites'])\n",
        "\n",
        "# get unique sites\n",
        "unique_sites = df.explode('sites').loc[:, 'sites'].sort_values().unique()\n",
        "\n",
        "# build map from actual site to masked site - could use full alphabet below\n",
        "random.seed(123456)\n",
        "site_to_scrambled = {\n",
        "    site: ''.join(random.choices('ABCDEFGHI', k=4))\n",
        "    for site in unique_sites }\n",
        "\n",
        "def convert(sites, site_to_scrambled):\n",
        "    return [site_to_scrambled[site] for site in sites]\n",
        "\n",
        "# apply the conversion \n",
        "# (keep both sites and sites_scrambled to verify)\n",
        "df['sites_scrambled'] = df['sites'].apply(\n",
        "    lambda x: convert(x, site_to_scrambled))\n",
        "print(df)\n",
        "\n",
        "  "
      ],
      "metadata": {
        "colab": {
          "base_uri": "https://localhost:8080/"
        },
        "id": "bTlPs42pI4bi",
        "outputId": "0e9824b6-9dc7-469f-e640-7853396b9449"
      },
      "execution_count": 10,
      "outputs": [
        {
          "output_type": "stream",
          "name": "stdout",
          "text": [
            "   row                   sites     sites_scrambled\n",
            "0    1  [Elle, Harpers, Cosmo]  [AFAC, BCEB, HHAB]\n",
            "1    2           [Elle, Vogue]        [AFAC, AIDF]\n",
            "2    3                 [Cosmo]              [HHAB]\n"
          ]
        }
      ]
    },
    {
      "cell_type": "markdown",
      "source": [
        "Task 3"
      ],
      "metadata": {
        "id": "j8VsRtAhJgh3"
      }
    },
    {
      "cell_type": "code",
      "source": [
        "import pandas as pd\n",
        "\n",
        "data = {'product': ['A', 'B', 'C', 'C', 'D'],\n",
        "        'price': [22000, 27000, 25000, 29000, 35000],\n",
        "        'year': [2014, 2015, 2016, 2017, 2018]\n",
        "        }\n",
        "\n",
        "df = pd.DataFrame(data)\n",
        "\n",
        "stats_numeric = df['price'].describe()\n",
        "print(stats_numeric)"
      ],
      "metadata": {
        "colab": {
          "base_uri": "https://localhost:8080/"
        },
        "id": "M5iznjsNJEAD",
        "outputId": "47e956d4-2d6b-442f-dbb6-a72b6e662818"
      },
      "execution_count": 13,
      "outputs": [
        {
          "output_type": "stream",
          "name": "stdout",
          "text": [
            "count        5.000000\n",
            "mean     27600.000000\n",
            "std       4878.524367\n",
            "min      22000.000000\n",
            "25%      25000.000000\n",
            "50%      27000.000000\n",
            "75%      29000.000000\n",
            "max      35000.000000\n",
            "Name: price, dtype: float64\n"
          ]
        }
      ]
    },
    {
      "cell_type": "markdown",
      "source": [
        "Task 4"
      ],
      "metadata": {
        "id": "wSXpQ-_lJ8Lp"
      }
    },
    {
      "cell_type": "code",
      "source": [
        "import pandas as pd\n",
        "import numpy as np\n",
        "\n",
        "data = {'set_of_numbers': [1,2,3,4,5,np.nan,6,7,np.nan,8,9,10,np.nan]}\n",
        "df = pd.DataFrame(data)\n",
        "\n",
        "check_for_nan = df['set_of_numbers'].isnull()\n",
        "print (check_for_nan)"
      ],
      "metadata": {
        "colab": {
          "base_uri": "https://localhost:8080/"
        },
        "id": "wd6lS8qtJ5Ry",
        "outputId": "63d73a9a-3bfb-48a9-8754-eccd7521e48c"
      },
      "execution_count": 14,
      "outputs": [
        {
          "output_type": "stream",
          "name": "stdout",
          "text": [
            "0     False\n",
            "1     False\n",
            "2     False\n",
            "3     False\n",
            "4     False\n",
            "5      True\n",
            "6     False\n",
            "7     False\n",
            "8      True\n",
            "9     False\n",
            "10    False\n",
            "11    False\n",
            "12     True\n",
            "Name: set_of_numbers, dtype: bool\n"
          ]
        }
      ]
    },
    {
      "cell_type": "markdown",
      "source": [
        "Task 5"
      ],
      "metadata": {
        "id": "Ltegwbu8KZhM"
      }
    },
    {
      "cell_type": "code",
      "source": [
        "import numpy as np\n",
        "import pandas as pd\n",
        "\n",
        "data = np.random.randint(5,30,size=(10,3))\n",
        "df = pd.DataFrame(data, columns=['random_numbers_1', 'random_numbers_2', 'random_numbers_3'])\n",
        "\n",
        "print(df)"
      ],
      "metadata": {
        "colab": {
          "base_uri": "https://localhost:8080/"
        },
        "id": "aIvWRNg1J919",
        "outputId": "50023189-c9d4-4d7a-87c4-46209680c946"
      },
      "execution_count": 16,
      "outputs": [
        {
          "output_type": "stream",
          "name": "stdout",
          "text": [
            "   random_numbers_1  random_numbers_2  random_numbers_3\n",
            "0                26                24                 8\n",
            "1                21                18                11\n",
            "2                 9                18                29\n",
            "3                27                 8                10\n",
            "4                23                15                18\n",
            "5                27                24                 9\n",
            "6                17                10                 9\n",
            "7                 6                 7                25\n",
            "8                21                12                24\n",
            "9                19                13                24\n"
          ]
        }
      ]
    }
  ]
}